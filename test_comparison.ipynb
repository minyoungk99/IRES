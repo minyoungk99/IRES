{
 "cells": [
  {
   "cell_type": "code",
   "execution_count": 56,
   "metadata": {},
   "outputs": [
    {
     "name": "stdout",
     "output_type": "stream",
     "text": [
      "The autoreload extension is already loaded. To reload it, use:\n",
      "  %reload_ext autoreload\n"
     ]
    }
   ],
   "source": [
    "%load_ext autoreload\n",
    "%autoreload 2\n",
    "\n",
    "import numpy as np\n",
    "import matplotlib.pyplot as plt\n",
    "from matplotlib.lines import Line2D\n",
    "import seaborn as sns\n",
    "import pandas as pd"
   ]
  },
  {
   "cell_type": "markdown",
   "metadata": {},
   "source": [
    "## Goal to compare accuracy of different test classifications of normal/abnormal MJD against visual classification (not rigorous)\n",
    "## n = normal, ab = abnormal\n",
    "## Known that normal mode (82.45%), abnormal mode (17.55%)\n",
    "5.1 in\n",
    "https://www2.physik.uni-bielefeld.de/fileadmin/user_upload/radio_astronomy/Publications/Bachelorthesis_MaxKreie.pdf"
   ]
  },
  {
   "cell_type": "markdown",
   "metadata": {},
   "source": [
    "# 1. Proportions"
   ]
  },
  {
   "cell_type": "code",
   "execution_count": 3,
   "metadata": {},
   "outputs": [],
   "source": [
    "mjd = np.loadtxt('./data/J0332_MJD.txt')\n",
    "n_visual= np.loadtxt('./classified_mjd/J0332_norm_mjd_visual.txt')\n",
    "ab_visual= np.loadtxt('./classified_mjd/J0332_abnorm_mjd_visual.txt')\n",
    "\n",
    "n_ks = np.loadtxt('./classified_mjd/J0332_norm_mjd_ks.txt')\n",
    "ab_ks = np.loadtxt('./classified_mjd/J0332_abnorm_mjd_ks.txt')\n",
    "\n",
    "n_wavelet_diff = np.loadtxt('./classified_mjd/J0332_norm_mjd_wavelet_diff.txt')\n",
    "ab_wavelet_diff = np.loadtxt('./classified_mjd/J0332_abnorm_mjd_wavelet_diff.txt')\n",
    "\n",
    "n_wavelet_ratio = np.loadtxt('./classified_mjd/J0332_norm_mjd_wavelet_ratio.txt')\n",
    "ab_wavelet_ratio = np.loadtxt('./classified_mjd/J0332_abnorm_mjd_wavelet_ratio.txt')"
   ]
  },
  {
   "cell_type": "code",
   "execution_count": 4,
   "metadata": {},
   "outputs": [
    {
     "data": {
      "text/plain": [
       "(array([58302., 58337., 58342., 58349., 58363., 58411., 58413., 58425.,\n",
       "        58434., 58446., 58629., 58632.]), array([58251., 58425., 58481.]))"
      ]
     },
     "execution_count": 4,
     "metadata": {},
     "output_type": "execute_result"
    }
   ],
   "source": [
    "ab_visual, ab_ks"
   ]
  },
  {
   "cell_type": "code",
   "execution_count": 6,
   "metadata": {},
   "outputs": [
    {
     "name": "stdout",
     "output_type": "stream",
     "text": [
      "Visual classification proportions:  80.65% and 19.35%\n",
      "KS test classification proportions: 95.16% and 4.84%\n",
      "Wavelet difference proportions: 54.84% and 45.2%\n",
      "Wavelet ratio proportions: 82.26% and 17.7%\n",
      "Note that for KS test, using 95th percentile is closer to literature over 99th\n",
      "Also, because we only have 62 samples, and the sampling was not continuous in time,\n",
      "it is expected that proportions wont be super accurate\n"
     ]
    }
   ],
   "source": [
    "#Proportions\n",
    "nprofs = len(n_visual) + len(ab_visual)\n",
    "print('Visual classification proportions: {:>6}% and {}%'.format(100*round(len(n_visual)/nprofs, 4), \\\n",
    "                                                          100*round(len(ab_visual)/nprofs, 4)))\n",
    "print('KS test classification proportions: {:>}% and {:>}%'.format(100*round(len(n_ks)/nprofs, 4), \\\n",
    "                                                          100*round(len(ab_ks)/nprofs, 4)))\n",
    "print('Wavelet difference proportions: {:>}% and {:>}%'.format(100*round(len(n_wavelet_diff)/nprofs, 4), \\\n",
    "                                                          100*round(len(ab_wavelet_diff)/nprofs, 3)))\n",
    "print('Wavelet ratio proportions: {:>}% and {:>}%'.format(100*round(len(n_wavelet_ratio)/nprofs, 4), \\\n",
    "                                                          100*round(len(ab_wavelet_ratio)/nprofs, 3)))\n",
    "\n",
    "print('Note that for KS test, using 95th percentile is closer to literature over 99th')\n",
    "print('Also, because we only have 62 samples, and the sampling was not continuous in time,'\n",
    "      '\\nit is expected that proportions wont be super accurate')"
   ]
  },
  {
   "cell_type": "markdown",
   "metadata": {},
   "source": [
    "### Need better way of dealing with repeating MJDs below, maybe use indices for building DF?\n",
    "629, 630, 648 are repeating. By the way I am building DF, repeating index will both have normal mode classific\n",
    "Need to consider repeating MJD for all, inluding visual"
   ]
  },
  {
   "cell_type": "markdown",
   "metadata": {},
   "source": [
    "# 2. Specific MJDs"
   ]
  },
  {
   "cell_type": "code",
   "execution_count": 40,
   "metadata": {},
   "outputs": [
    {
     "data": {
      "text/html": [
       "<div>\n",
       "<style scoped>\n",
       "    .dataframe tbody tr th:only-of-type {\n",
       "        vertical-align: middle;\n",
       "    }\n",
       "\n",
       "    .dataframe tbody tr th {\n",
       "        vertical-align: top;\n",
       "    }\n",
       "\n",
       "    .dataframe thead th {\n",
       "        text-align: right;\n",
       "    }\n",
       "</style>\n",
       "<table border=\"1\" class=\"dataframe\">\n",
       "  <thead>\n",
       "    <tr style=\"text-align: right;\">\n",
       "      <th></th>\n",
       "      <th>mjd</th>\n",
       "      <th>visual</th>\n",
       "      <th>ks</th>\n",
       "      <th>ks_offset</th>\n",
       "      <th>wavelet_diff</th>\n",
       "      <th>wavelet_ratio</th>\n",
       "      <th>wavelet_diff_offset</th>\n",
       "      <th>wavelet_ratio_offset</th>\n",
       "      <th>match_visual_ks</th>\n",
       "      <th>match_visual_wavelet_diff</th>\n",
       "      <th>match_visual_wavelet_ratio</th>\n",
       "    </tr>\n",
       "  </thead>\n",
       "  <tbody>\n",
       "    <tr>\n",
       "      <th>50</th>\n",
       "      <td>58625.0</td>\n",
       "      <td>0</td>\n",
       "      <td>0</td>\n",
       "      <td>0.05</td>\n",
       "      <td>0</td>\n",
       "      <td>0</td>\n",
       "      <td>0.1</td>\n",
       "      <td>0.15</td>\n",
       "      <td>1</td>\n",
       "      <td>1</td>\n",
       "      <td>1</td>\n",
       "    </tr>\n",
       "    <tr>\n",
       "      <th>51</th>\n",
       "      <td>58629.0</td>\n",
       "      <td>0</td>\n",
       "      <td>0</td>\n",
       "      <td>0.05</td>\n",
       "      <td>0</td>\n",
       "      <td>0</td>\n",
       "      <td>0.1</td>\n",
       "      <td>0.15</td>\n",
       "      <td>1</td>\n",
       "      <td>1</td>\n",
       "      <td>1</td>\n",
       "    </tr>\n",
       "    <tr>\n",
       "      <th>52</th>\n",
       "      <td>58629.0</td>\n",
       "      <td>1</td>\n",
       "      <td>0</td>\n",
       "      <td>0.05</td>\n",
       "      <td>1</td>\n",
       "      <td>0</td>\n",
       "      <td>1.1</td>\n",
       "      <td>0.15</td>\n",
       "      <td>0</td>\n",
       "      <td>1</td>\n",
       "      <td>0</td>\n",
       "    </tr>\n",
       "    <tr>\n",
       "      <th>53</th>\n",
       "      <td>58630.0</td>\n",
       "      <td>0</td>\n",
       "      <td>0</td>\n",
       "      <td>0.05</td>\n",
       "      <td>0</td>\n",
       "      <td>1</td>\n",
       "      <td>0.1</td>\n",
       "      <td>1.15</td>\n",
       "      <td>1</td>\n",
       "      <td>1</td>\n",
       "      <td>0</td>\n",
       "    </tr>\n",
       "    <tr>\n",
       "      <th>54</th>\n",
       "      <td>58630.0</td>\n",
       "      <td>0</td>\n",
       "      <td>0</td>\n",
       "      <td>0.05</td>\n",
       "      <td>0</td>\n",
       "      <td>0</td>\n",
       "      <td>0.1</td>\n",
       "      <td>0.15</td>\n",
       "      <td>1</td>\n",
       "      <td>1</td>\n",
       "      <td>1</td>\n",
       "    </tr>\n",
       "    <tr>\n",
       "      <th>55</th>\n",
       "      <td>58631.0</td>\n",
       "      <td>0</td>\n",
       "      <td>0</td>\n",
       "      <td>0.05</td>\n",
       "      <td>0</td>\n",
       "      <td>0</td>\n",
       "      <td>0.1</td>\n",
       "      <td>0.15</td>\n",
       "      <td>1</td>\n",
       "      <td>1</td>\n",
       "      <td>1</td>\n",
       "    </tr>\n",
       "  </tbody>\n",
       "</table>\n",
       "</div>"
      ],
      "text/plain": [
       "        mjd  visual  ks  ks_offset  wavelet_diff  wavelet_ratio  \\\n",
       "50  58625.0       0   0       0.05             0              0   \n",
       "51  58629.0       0   0       0.05             0              0   \n",
       "52  58629.0       1   0       0.05             1              0   \n",
       "53  58630.0       0   0       0.05             0              1   \n",
       "54  58630.0       0   0       0.05             0              0   \n",
       "55  58631.0       0   0       0.05             0              0   \n",
       "\n",
       "    wavelet_diff_offset  wavelet_ratio_offset  match_visual_ks  \\\n",
       "50                  0.1                  0.15                1   \n",
       "51                  0.1                  0.15                1   \n",
       "52                  1.1                  0.15                0   \n",
       "53                  0.1                  1.15                1   \n",
       "54                  0.1                  0.15                1   \n",
       "55                  0.1                  0.15                1   \n",
       "\n",
       "    match_visual_wavelet_diff  match_visual_wavelet_ratio  \n",
       "50                          1                           1  \n",
       "51                          1                           1  \n",
       "52                          1                           0  \n",
       "53                          1                           0  \n",
       "54                          1                           1  \n",
       "55                          1                           1  "
      ]
     },
     "execution_count": 40,
     "metadata": {},
     "output_type": "execute_result"
    }
   ],
   "source": [
    "df = pd.DataFrame(mjd, columns=['mjd'])\n",
    "#0 if normal, 1 if abnormal, corresponding to MJD in date column\n",
    "df['visual'] = pd.DataFrame([0 if date in n_visual else 1 for date in mjd]) \n",
    "df['ks'] = pd.DataFrame([0 if date in n_ks else 1 for date in mjd])\n",
    "df['ks_offset'] = df['ks']+.05\n",
    "df['wavelet_diff'] = pd.DataFrame([0 if date in n_wavelet_diff else 1 for date in mjd])\n",
    "df['wavelet_ratio'] = pd.DataFrame([0 if date in n_wavelet_ratio else 1 for date in mjd])\n",
    "\n",
    "#Adjust for repeating values\n",
    "df.at[52, ['visual', 'wavelet_diff']] = 1 #2nd MJD for 58629\n",
    "df.at[53, ['wavelet_ratio']] = 1 #1st MJD for 58630\n",
    "\n",
    "df['wavelet_diff_offset'] = df['wavelet_diff']+.1\n",
    "df['wavelet_ratio_offset'] = df['wavelet_ratio']+.15\n",
    "#create new column to see if classifications of MJD match against visual\n",
    "#does LHS * 1, where LHS is boolean, but True*1=1\n",
    "df['match_visual_ks'] = (df['visual'] == df['ks']).mul(1)\n",
    "df['match_visual_wavelet_diff'] = (df['visual'] == df['wavelet_diff']).mul(1)\n",
    "df['match_visual_wavelet_ratio'] = (df['visual'] == df['wavelet_ratio']).mul(1)\n",
    "\n",
    "df.iloc[50:56]"
   ]
  },
  {
   "cell_type": "code",
   "execution_count": 81,
   "metadata": {},
   "outputs": [],
   "source": [
    "def matches(df, plot_values, matches, colors=['k', 'olivedrab','r'], display_mjd=[True, 1]):\n",
    "    '''Helper function for plotting vertical lines connecting MJDs\n",
    "    on scatterplot where test result matches visual classification.\n",
    "    \n",
    "    Parameters\n",
    "    ----------\n",
    "    df : DataFrame\n",
    "    Columns and its contents are specific to the DataFrame\n",
    "    defined in this notebook.\n",
    "    \n",
    "    plot_values : list\n",
    "    List containing string of column names which contain\n",
    "    actual values to be plotted for each test. For example, for\n",
    "    KS test it would be column ks_offset.\n",
    "    \n",
    "    matches : list\n",
    "    List containing strings of column names. Each column\n",
    "    contains binary value, identifying matches between the\n",
    "    test's classification and visual classification. For example,\n",
    "    for KS test, the column is match_visual_ks\n",
    "    \n",
    "    colors : list\n",
    "    List containing strings of colors to be used in matplotlib.\n",
    "    \n",
    "    display_mjd : list\n",
    "    List containing 2 elements, a boolean deciding whether to \n",
    "    display mjd or not, and if True, which test's index from\n",
    "    plot_values to display.\n",
    "    '''\n",
    "    \n",
    "    for j in range(len(plot_values)):\n",
    "        text_up = .03\n",
    "        text_down = .05\n",
    "        alternator = 1\n",
    "        \n",
    "        for i in df.index:\n",
    "            #if visual classific matches test classific, draw line\n",
    "            if (df[matches[j]][i] == 1):\n",
    "                x = df.mjd[i]\n",
    "                y_lower = df.visual[i]\n",
    "                y_higher = df[plot_values[j]][i]\n",
    "                plt.vlines(x=x, ymin=y_lower, ymax=y_higher, color=colors[j], alpha=1)\n",
    "                #if we want to display MJD\n",
    "                if display_mjd[0]:\n",
    "                    #if this is the test for which we want to display MJD\n",
    "                    if display_mjd[1] == j:\n",
    "                        #if it's an abnormal classification,\n",
    "                        if df.visual[i] == 1:\n",
    "                            if (alternator == 1):\n",
    "                                plt.text(x-11, y_higher+(text_up), s=int(x), color=colors[j], fontsize=10)\n",
    "                                alternator *= -1\n",
    "                            else:\n",
    "                                plt.text(x-11, y_lower-(text_down), s=int(x), color=colors[j], fontsize=10)\n",
    "                                alternator *= -1"
   ]
  },
  {
   "cell_type": "code",
   "execution_count": 85,
   "metadata": {},
   "outputs": [],
   "source": [
    "#Custom Legend cus seaborn is being annoying\n",
    "#color = color for line intersecting marker\n",
    "#markerfacecolor = color for marker itself\n",
    "visual_0 = Line2D([], [], color='w', markerfacecolor='#F95E5E', marker='o', label=\"Visual Normal\", markersize=10)\n",
    "visual_1 = Line2D([], [], color='w', markerfacecolor='#608DF5', marker='o', label=\"Visual Abnormal\", markersize=10)\n",
    "\n",
    "ks_0 = Line2D([], [], color='w', markerfacecolor='#09C009', marker='X', label=\"KS Normal\", markersize=10)\n",
    "ks_1 = Line2D([], [], color='w', markerfacecolor='#700BE2', marker='X', label=\"KS Abnormal\", markersize=10)\n",
    "\n",
    "dwavelet_0 = Line2D([], [], color='w', markerfacecolor='#EE96EB', marker='^', label=\"Wavelet Diff Normal\", markersize=10)\n",
    "dwavelet_1 = Line2D([], [], color='w', markerfacecolor='#00EFFF', marker='^', label=\"Wavelet Diff Abnormal\", markersize=10)\n",
    "\n",
    "rwavelet_0 = Line2D([], [], color='w', markerfacecolor='#000000', marker='s', label=\"Wavelet Ratio Normal\", markersize=10)\n",
    "rwavelet_1 = Line2D([], [], color='w', markerfacecolor='#FFA200', marker='s', label=\"Wavelet Ratio Abnormal\", markersize=10)\n",
    "\n",
    "#Match lines\n",
    "match_ks = Line2D([], [], color='k', label=\"Visual Match KS\")\n",
    "match_dwavelet = Line2D([], [], color='olive', label=\"Visual Match Wavelet Diff\")\n",
    "match_rwavelet = Line2D([], [], color='r', label=\"Visual Match Wavelet Ratio\")\n",
    "\n",
    "handles = [visual_0, visual_1, ks_0, ks_1, dwavelet_0, dwavelet_1, rwavelet_0, rwavelet_1,\n",
    "           match_ks, match_dwavelet, match_rwavelet]"
   ]
  },
  {
   "cell_type": "code",
   "execution_count": 86,
   "metadata": {},
   "outputs": [
    {
     "data": {
      "image/png": "[encoded data removed]",
      "text/plain": [
       "<Figure size 864x504 with 1 Axes>"
      ]
     },
     "metadata": {},
     "output_type": "display_data"
    }
   ],
   "source": [
    "sns.set()\n",
    "fig = plt.figure(figsize=(12,7))\n",
    "\n",
    "#plotting keywords for each test\n",
    "cmaps = [sns.color_palette(['#F95E5E', '#608DF5']), sns.color_palette(['#09C009', '#700BE2']), \n",
    "         sns.color_palette(['#EE96EB', '#00EFFF']), sns.color_palette(['#000000', '#FFA200'])]\n",
    "params = {'y':['visual', 'ks_offset', 'wavelet_diff_offset', 'wavelet_ratio_offset'],\n",
    "          'hue':['visual', 'ks', 'wavelet_diff', 'wavelet_ratio'],\n",
    "          'marker':['o', 'X', '^', 's'],\n",
    "          'alpha':[.5]*4}\n",
    "\n",
    "for i in range(4):\n",
    "    ax = sns.scatterplot(x='mjd', y=params['y'][i], data=df, hue=params['hue'][i], palette=cmaps[i],\n",
    "                         marker=params['marker'][i], s=70, alpha=params['alpha'][i])\n",
    "    \n",
    "#Display vlines for matching MJD, and display MJD value for abnormals\n",
    "matches(df, plot_values=['ks_offset', 'wavelet_diff_offset', 'wavelet_ratio_offset'], \n",
    "            matches=['match_visual_ks', 'match_visual_wavelet_diff', 'match_visual_wavelet_ratio'],\n",
    "            display_mjd=[True,2])\n",
    "            \n",
    "ax.set_title('Mode Classifications of Different Tests', fontdict={'fontsize':20})\n",
    "ax.set_xlabel('MJD', size=15)\n",
    "ax.set_ylabel('Mode', size=15)\n",
    "\n",
    "legend = plt.legend(handles=handles, loc='center right')\n",
    "frame = legend.get_frame()\n",
    "frame.set_color('white')\n",
    "\n",
    "plt.savefig('./plots/test_comp.jpeg')"
   ]
  },
  {
   "cell_type": "code",
   "execution_count": 84,
   "metadata": {},
   "outputs": [
    {
     "data": {
      "text/plain": [
       "(12, 28, 3, 11)"
      ]
     },
     "execution_count": 84,
     "metadata": {},
     "output_type": "execute_result"
    }
   ],
   "source": [
    "len(ab_visual), len(ab_wavelet_diff), len(ab_ks), len(ab_wavelet_ratio)"
   ]
  },
  {
   "cell_type": "code",
   "execution_count": 87,
   "metadata": {},
   "outputs": [
    {
     "data": {
      "text/plain": [
       "array([58251., 58425., 58481.])"
      ]
     },
     "execution_count": 87,
     "metadata": {},
     "output_type": "execute_result"
    }
   ],
   "source": [
    "ab_ks"
   ]
  },
  {
   "cell_type": "code",
   "execution_count": null,
   "metadata": {},
   "outputs": [],
   "source": []
  }
 ],
 "metadata": {
  "kernelspec": {
   "display_name": "Python 3",
   "language": "python",
   "name": "python3"
  },
  "language_info": {
   "codemirror_mode": {
    "name": "ipython",
    "version": 3
   },
   "file_extension": ".py",
   "mimetype": "text/x-python",
   "name": "python",
   "nbconvert_exporter": "python",
   "pygments_lexer": "ipython3",
   "version": "3.6.7"
  }
 },
 "nbformat": 4,
 "nbformat_minor": 2
}
