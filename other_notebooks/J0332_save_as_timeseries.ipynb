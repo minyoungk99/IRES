{
 "cells": [
  {
   "cell_type": "code",
   "execution_count": 1,
   "metadata": {},
   "outputs": [],
   "source": [
    "%matplotlib inline\n",
    "\n",
    "import matplotlib.pyplot as plt\n",
    "import numpy as np"
   ]
  },
  {
   "cell_type": "markdown",
   "metadata": {},
   "source": [
    "# Save profiles as timeseries with fully interpolated MJD \"timegrid\""
   ]
  },
  {
   "cell_type": "code",
   "execution_count": 2,
   "metadata": {},
   "outputs": [],
   "source": [
    "profs = np.loadtxt('../J0332_profile.txt')\n",
    "mjd = np.loadtxt('../J0332_MJD.txt')\n",
    "\n",
    "nbins = 714\n",
    "p = 0.7141571200 #seconds\n",
    "tspan = int(mjd.max() - mjd.min())"
   ]
  },
  {
   "cell_type": "code",
   "execution_count": 20,
   "metadata": {},
   "outputs": [],
   "source": [
    "#create equally spaced time axis for plotting wavelet power spectrum\n",
    "timegrid = []\n",
    "start_mjd = mjd[0]\n",
    "\n",
    "for i in range(tspan):\n",
    "    timegrid += np.linspace(start_mjd+i, start_mjd + i + p/86400, nbins).tolist()\n",
    "    #this doesn't correct for all\n",
    "    #milliseconds in day, but not necessary if want to just observe periodic patterns\n",
    "\n",
    "timegrid = np.array(timegrid)"
   ]
  },
  {
   "cell_type": "code",
   "execution_count": 81,
   "metadata": {},
   "outputs": [],
   "source": [
    "#create timeseries corresponding to timegrid, 0 value where no obs.\n",
    "timeser = np.zeros_like(timegrid)\n",
    "prof_ct = 0\n",
    "\n",
    "for t in range(len(timegrid)):\n",
    "    if timegrid[t] in mjd:\n",
    "        timeser[t:t+nbins] = profs[prof_ct]\n",
    "        prof_ct += 1"
   ]
  },
  {
   "cell_type": "code",
   "execution_count": 84,
   "metadata": {},
   "outputs": [
    {
     "data": {
      "text/plain": [
       "Text(0.5, 0, 'MJD')"
      ]
     },
     "execution_count": 84,
     "metadata": {},
     "output_type": "execute_result"
    },
    {
     "data": {
      "image/png": "[encoded data removed]",
      "text/plain": [
       "<Figure size 720x288 with 1 Axes>"
      ]
     },
     "metadata": {
      "needs_background": "light"
     },
     "output_type": "display_data"
    }
   ],
   "source": [
    "fig = plt.figure(figsize=(10,4))\n",
    "plt.plot(timegrid, timeser)\n",
    "plt.title('Time Series')\n",
    "plt.xlabel('MJD')"
   ]
  },
  {
   "cell_type": "code",
   "execution_count": 85,
   "metadata": {},
   "outputs": [],
   "source": [
    "np.savetxt('../R_wavelet/J0332_timeser.txt', timeser)\n",
    "np.savetxt('../R_wavelet/J0332_timegrid.txt', timegrid)"
   ]
  },
  {
   "cell_type": "markdown",
   "metadata": {},
   "source": [
    "# Or save timeser without MJD gaps"
   ]
  },
  {
   "cell_type": "code",
   "execution_count": 5,
   "metadata": {},
   "outputs": [
    {
     "data": {
      "text/plain": [
       "[<matplotlib.lines.Line2D at 0x118fa7f28>]"
      ]
     },
     "execution_count": 5,
     "metadata": {},
     "output_type": "execute_result"
    },
    {
     "data": {
      "image/png": "[encoded data removed]",
      "text/plain": [
       "<Figure size 432x288 with 1 Axes>"
      ]
     },
     "metadata": {
      "needs_background": "light"
     },
     "output_type": "display_data"
    }
   ],
   "source": [
    "timeser = np.hstack(profs)\n",
    "plt.plot(timeser)"
   ]
  },
  {
   "cell_type": "code",
   "execution_count": 6,
   "metadata": {},
   "outputs": [],
   "source": [
    "np.savetxt('../R_analysis/J0332_nogap_timeser.txt', timeser)"
   ]
  },
  {
   "cell_type": "code",
   "execution_count": null,
   "metadata": {},
   "outputs": [],
   "source": []
  }
 ],
 "metadata": {
  "kernelspec": {
   "display_name": "Python 3",
   "language": "python",
   "name": "python3"
  },
  "language_info": {
   "codemirror_mode": {
    "name": "ipython",
    "version": 3
   },
   "file_extension": ".py",
   "mimetype": "text/x-python",
   "name": "python",
   "nbconvert_exporter": "python",
   "pygments_lexer": "ipython3",
   "version": "3.6.7"
  }
 },
 "nbformat": 4,
 "nbformat_minor": 2
}
