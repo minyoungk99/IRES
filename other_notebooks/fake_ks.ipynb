{
 "cells": [
  {
   "cell_type": "code",
   "execution_count": 1,
   "metadata": {
    "collapsed": true
   },
   "outputs": [],
   "source": [
    "%load_ext autoreload\n",
    "%autoreload 2\n",
    "import sys\n",
    "sys.path.append('/Users/MYK/Desktop/IRES/scripts')\n",
    "\n",
    "import matplotlib.pyplot as plt\n",
    "import numpy as np\n",
    "import scipy.integrate as si\n",
    "import scipy.special as ss\n",
    "import scipy.stats as st\n",
    "from scipy.fftpack import fft, ifft\n",
    "import utils as u\n",
    "import fake_profile as fp\n",
    "import csv"
   ]
  },
  {
   "cell_type": "code",
   "execution_count": 2,
   "metadata": {
    "collapsed": true
   },
   "outputs": [],
   "source": [
    "a1 = [2, 7, 4]\n",
    "mu1 = [30, 50, 70]\n",
    "sd1 = [2, 2, 2]\n",
    "\n",
    "a2 = [4, 7, 1]\n",
    "mu2 = [30, 50, 70]\n",
    "sd2 = [2, 2, 2]\n",
    "\n",
    "temp_a = fp.fake_profile(a1,mu1,sd1); temp_a.construct_profile()\n",
    "temp_b = fp.fake_profile(a2,mu2,sd2); temp_b.construct_profile()"
   ]
  },
  {
   "cell_type": "code",
   "execution_count": 3,
   "metadata": {},
   "outputs": [
    {
     "data": {
      "image/png": "[encoded data removed]",
      "text/plain": [
       "<matplotlib.figure.Figure at 0x116e7bfd0>"
      ]
     },
     "metadata": {},
     "output_type": "display_data"
    }
   ],
   "source": [
    "plt.plot(temp_a.domain, temp_a.profile, label='temp_a')\n",
    "plt.plot(temp_b.domain, temp_b.profile, label='temp_b')\n",
    "plt.legend()\n",
    "plt.show()"
   ]
  },
  {
   "cell_type": "markdown",
   "metadata": {},
   "source": [
    "# Create 1000 temp_a with noise, ks test on temp_a, plot D-statistic hist"
   ]
  },
  {
   "cell_type": "code",
   "execution_count": 4,
   "metadata": {
    "collapsed": true
   },
   "outputs": [],
   "source": [
    "nsims = 1000\n",
    "temp_a_sim = [] #hold 1000 fake_profile objects\n",
    "for i in range(nsims):\n",
    "    instance = fp.fake_profile(a1,mu1,sd1)\n",
    "    instance.construct_profile(noise=True)\n",
    "    temp_a_sim.append(instance)"
   ]
  },
  {
   "cell_type": "code",
   "execution_count": 5,
   "metadata": {
    "collapsed": true
   },
   "outputs": [],
   "source": [
    "#construct cdf of temp_a, save as \"temp_a.txt\"\n",
    "null = np.cumsum(temp_a.profile)\n",
    "null = null / np.sum(null) #normalize cdf!\n",
    "np.savetxt('../R_analysis/simulation_kstest/temp_a.txt', null)"
   ]
  },
  {
   "cell_type": "code",
   "execution_count": 6,
   "metadata": {
    "collapsed": true
   },
   "outputs": [],
   "source": [
    "#create 2D array of the cumulative sums\n",
    "cdf = np.zeros((nsims, temp_a_sim[0].nbins))\n",
    "\n",
    "for i in range(nsims):\n",
    "    #we have negative values from when we calibrated, so take abs value. Is this VALID?\n",
    "    cumsum = np.cumsum(temp_a_sim[i].profile) #abs value or not? let's not\n",
    "    #normalize for cdf\n",
    "    cdf[i] = cumsum / np.sum(cumsum)\n",
    "\n",
    "#save 1000 simulated cdfs as \"temp_a_sim.txt\"\n",
    "np.savetxt('../R_analysis/simulation_kstest/temp_a_sim.txt', cdf)"
   ]
  },
  {
   "cell_type": "code",
   "execution_count": 7,
   "metadata": {
    "collapsed": true
   },
   "outputs": [],
   "source": [
    "#read in D statistics from KS test\n",
    "D_aa = np.loadtxt('../R_analysis/simulation_kstest/temp_a_sim_a_Dvalues.txt')"
   ]
  },
  {
   "cell_type": "code",
   "execution_count": 8,
   "metadata": {},
   "outputs": [
    {
     "data": {
      "image/png": "[encoded data removed]",
      "text/plain": [
       "<matplotlib.figure.Figure at 0x1207e9198>"
      ]
     },
     "metadata": {},
     "output_type": "display_data"
    }
   ],
   "source": [
    "plt.hist(D_aa, bins=100)\n",
    "plt.title(\"temp_a on 1000 sim_a\")\n",
    "plt.show()"
   ]
  },
  {
   "cell_type": "markdown",
   "metadata": {
    "collapsed": true
   },
   "source": [
    "# Create 1000 sim of temp_b with noise, ks test against temp_a, plot D"
   ]
  },
  {
   "cell_type": "code",
   "execution_count": 9,
   "metadata": {
    "collapsed": true
   },
   "outputs": [],
   "source": [
    "temp_b_sim = [] #hold 1000 fake_profile objects\n",
    "for i in range(nsims):\n",
    "    instance = fp.fake_profile(a2,mu2,sd2)\n",
    "    instance.construct_profile(noise=True)\n",
    "    temp_b_sim.append(instance)"
   ]
  },
  {
   "cell_type": "code",
   "execution_count": 10,
   "metadata": {},
   "outputs": [],
   "source": [
    "#create 2D array of the cumulative sums\n",
    "cdf2 = np.zeros((nsims, temp_b_sim[0].nbins))\n",
    "\n",
    "for i in range(nsims):\n",
    "    #we have negative values from when we calibrated, so take abs value. Is this VALID?\n",
    "    cumsum = np.cumsum(temp_b_sim[i].profile) #abs value or not? let's not\n",
    "    #normalize for cdf\n",
    "    cdf2[i] = cumsum / np.sum(cumsum)\n",
    "\n",
    "#save 1000 simulated cdfs as \"temp_b_sim.txt\"\n",
    "np.savetxt('../R_analysis/simulation_kstest/temp_b_sim.txt', cdf2)"
   ]
  },
  {
   "cell_type": "code",
   "execution_count": 11,
   "metadata": {
    "collapsed": true
   },
   "outputs": [],
   "source": [
    "#read in D statistic \n",
    "D_ab = np.loadtxt('../R_analysis/simulation_kstest/temp_a_sim_b_Dvalues.txt')"
   ]
  },
  {
   "cell_type": "code",
   "execution_count": 28,
   "metadata": {},
   "outputs": [
    {
     "data": {
      "image/png": "[encoded data removed]",
      "text/plain": [
       "<matplotlib.figure.Figure at 0x1217ef828>"
      ]
     },
     "metadata": {},
     "output_type": "display_data"
    }
   ],
   "source": [
    "bins = np.linspace(.12,.31,300)\n",
    "plt.hist(D_ab,bins,label='D_ab',color='r')\n",
    "plt.hist(D_aa,bins,label='D_aa',color='g')\n",
    "plt.title(\"D-statistic\")\n",
    "plt.legend()\n",
    "plt.show()"
   ]
  }
 ],
 "metadata": {
  "kernelspec": {
   "display_name": "Python 3",
   "language": "python",
   "name": "python3"
  },
  "language_info": {
   "codemirror_mode": {
    "name": "ipython",
    "version": 3
   },
   "file_extension": ".py",
   "mimetype": "text/x-python",
   "name": "python",
   "nbconvert_exporter": "python",
   "pygments_lexer": "ipython3",
   "version": "3.6.7"
  }
 },
 "nbformat": 4,
 "nbformat_minor": 2
}
