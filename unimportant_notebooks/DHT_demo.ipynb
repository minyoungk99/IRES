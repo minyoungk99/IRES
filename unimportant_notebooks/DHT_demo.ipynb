{
 "cells": [
  {
   "cell_type": "code",
   "execution_count": 1,
   "metadata": {
    "collapsed": true
   },
   "outputs": [],
   "source": [
    "import numpy as np\n",
    "import matplotlib.pyplot as plt"
   ]
  },
  {
   "cell_type": "code",
   "execution_count": 104,
   "metadata": {
    "collapsed": true
   },
   "outputs": [],
   "source": [
    "def reverse(c,d):\n",
    "    reverse = np.zeros(len(c)*2 + 1)\n",
    "    for i in range(len(c)):\n",
    "        reverse[2*i] = (c[i] + d[i]) / np.sqrt(2)\n",
    "        reverse[2*i + 1] = (c[i] - d[i]) / np.sqrt(2)\n",
    "    reverse[-1] = reverse[-2]\n",
    "    return reverse"
   ]
  },
  {
   "cell_type": "code",
   "execution_count": 127,
   "metadata": {},
   "outputs": [
    {
     "data": {
      "image/png": "[encoded data removed]",
      "text/plain": [
       "<matplotlib.figure.Figure at 0x11aa724e0>"
      ]
     },
     "metadata": {},
     "output_type": "display_data"
    }
   ],
   "source": [
    "c_0 = np.array([1,2,4,6,3,8,10,9,10,7,6,5,3,2,1,0])\n",
    "d_1 = np.array([-1,-2,-5,1,3,1,1,1]) / np.sqrt(2)\n",
    "d_1_ = np.array([-1,-2,-5,1,3,1,1,1,1]) / np.sqrt(2)\n",
    "d_2 = np.array([-7,-8,6,4]) / 2\n",
    "d_2_ = np.array([-7,-8,6,4,4]) / 2\n",
    "d_3 = np.array([-17,22]) / np.sqrt(8)\n",
    "d_3_ = np.array([-17,22,22]) / np.sqrt(8)\n",
    "c_3 = np.array([43,34]) / np.sqrt(8) #for calculating c_2\n",
    "c_3_ = np.array([43,34,34]) / np.sqrt(8) #for plotting\n",
    "x = np.array([1,2,3,4,5,6,7,8,9,10,11,12,13,14,15,16,16])\n",
    "\n",
    "plt.figure(figsize=(7,5))\n",
    "ic_2 = reverse(c_3,d_3)\n",
    "ic_1 = reverse(ic_2[0:-1],d_2)\n",
    "ic_0 = reverse(ic_1[0:-1],d_1)\n",
    "\n",
    "plt.step([0,8,16], c_3_, 'red', where='post',label = \"c3\")\n",
    "plt.step([0,4,8,12,16], ic_2, 'orange', where='post',label = \"c2\")\n",
    "plt.step([0,2,4,6,8,10,12,14,16], ic_1, 'green', where='post',label = \"c1\")\n",
    "plt.step(x, ic_0, 'purple', where='post',label = \"c0\")\n",
    "\n",
    "plt.step(x[0:-1],c_0,'k',where='post')\n",
    "plt.hlines(0,xmin=0,xmax=16)\n",
    "plt.legend()\n",
    "plt.show()"
   ]
  },
  {
   "cell_type": "code",
   "execution_count": 77,
   "metadata": {},
   "outputs": [],
   "source": [
    "import pywt"
   ]
  },
  {
   "cell_type": "code",
   "execution_count": 80,
   "metadata": {},
   "outputs": [],
   "source": [
    "c1,d1 = pywt.dwt(c_0, 'haar')\n",
    "c2,d2 = pywt.dwt(c1, 'haar')\n",
    "c3,d3 = pywt.dwt(c2, 'haar')"
   ]
  },
  {
   "cell_type": "code",
   "execution_count": 86,
   "metadata": {},
   "outputs": [
    {
     "data": {
      "text/plain": [
       "array([ -1.11022302e-16,  -4.44089210e-16,  -4.44089210e-16,\n",
       "        -4.44089210e-16,   4.44089210e-16,   4.44089210e-16,\n",
       "         2.22044605e-16,   1.11022302e-16])"
      ]
     },
     "execution_count": 86,
     "metadata": {},
     "output_type": "execute_result"
    }
   ],
   "source": [
    "d3 - d_3\n",
    "d2 - d_2\n",
    "d1 - d_1"
   ]
  },
  {
   "cell_type": "code",
   "execution_count": 87,
   "metadata": {
    "collapsed": true
   },
   "outputs": [],
   "source": [
    "ic2 = pywt.idwt(c3,d3,'haar')\n",
    "ic1 = pywt.idwt(ic2,d2,'haar')\n",
    "ic0 = pywt.idwt(ic1,d1,'haar')"
   ]
  },
  {
   "cell_type": "code",
   "execution_count": 117,
   "metadata": {},
   "outputs": [
    {
     "data": {
      "text/plain": [
       "array([  1.77635684e-15,   1.99840144e-15,   3.10862447e-15,\n",
       "         3.55271368e-15,   5.32907052e-15,   6.21724894e-15,\n",
       "         8.88178420e-15,   8.88178420e-15,   7.10542736e-15,\n",
       "         6.21724894e-15,   5.32907052e-15,   5.32907052e-15,\n",
       "         1.33226763e-15,   1.11022302e-15,   8.88178420e-16,\n",
       "         4.57558474e-16])"
      ]
     },
     "execution_count": 117,
     "metadata": {},
     "output_type": "execute_result"
    }
   ],
   "source": [
    "ic0 - reverse(ic_1[0:-1],d_1)[0:-1]"
   ]
  },
  {
   "cell_type": "code",
   "execution_count": 128,
   "metadata": {},
   "outputs": [
    {
     "data": {
      "text/plain": [
       "array([-6.01040764,  7.77817459])"
      ]
     },
     "execution_count": 128,
     "metadata": {},
     "output_type": "execute_result"
    }
   ],
   "source": [
    "d3"
   ]
  },
  {
   "cell_type": "code",
   "execution_count": null,
   "metadata": {
    "collapsed": true
   },
   "outputs": [],
   "source": []
  }
 ],
 "metadata": {
  "kernelspec": {
   "display_name": "Python 3",
   "language": "python",
   "name": "python3"
  },
  "language_info": {
   "codemirror_mode": {
    "name": "ipython",
    "version": 3
   },
   "file_extension": ".py",
   "mimetype": "text/x-python",
   "name": "python",
   "nbconvert_exporter": "python",
   "pygments_lexer": "ipython3",
   "version": "3.6.7"
  }
 },
 "nbformat": 4,
 "nbformat_minor": 2
}
