{
 "cells": [
  {
   "cell_type": "code",
   "execution_count": 1,
   "metadata": {},
   "outputs": [],
   "source": [
    "%load_ext autoreload\n",
    "%autoreload 2\n",
    "\n",
    "import numpy as np\n",
    "import matplotlib.pyplot as plt\n",
    "import seaborn as sns"
   ]
  },
  {
   "cell_type": "markdown",
   "metadata": {},
   "source": [
    "## Goal to compare accuracy of different test classifications of normal/abnormal MJD against visual classification (not rigorous)\n",
    "## n = normal, ab = abnormal\n",
    "## Known that normal mode (82.45%), abnormal mode (17.55%)\n",
    "5.1 in\n",
    "https://www2.physik.uni-bielefeld.de/fileadmin/user_upload/radio_astronomy/Publications/Bachelorthesis_MaxKreie.pdf"
   ]
  },
  {
   "cell_type": "code",
   "execution_count": 2,
   "metadata": {},
   "outputs": [],
   "source": [
    "n_visual= np.loadtxt('./classified_mjd/J0332_norm_mjd_visual.txt')\n",
    "ab_visual= np.loadtxt('./classified_mjd/J0332_abnorm_mjd_visual.txt')\n",
    "\n",
    "n_ks = np.loadtxt('./classified_mjd/J0332_norm_mjd_ks.txt')\n",
    "ab_ks = np.loadtxt('./classified_mjd/J0332_abnorm_mjd_ks.txt')"
   ]
  },
  {
   "cell_type": "code",
   "execution_count": 3,
   "metadata": {},
   "outputs": [
    {
     "data": {
      "text/plain": [
       "(61, 62)"
      ]
     },
     "execution_count": 3,
     "metadata": {},
     "output_type": "execute_result"
    }
   ],
   "source": [
    "#Proportions\n",
    "len(n_visual)+len(ab_visual), len(n_ks)+len(ab_ks)"
   ]
  },
  {
   "cell_type": "code",
   "execution_count": null,
   "metadata": {},
   "outputs": [],
   "source": []
  }
 ],
 "metadata": {
  "kernelspec": {
   "display_name": "Python 3",
   "language": "python",
   "name": "python3"
  },
  "language_info": {
   "codemirror_mode": {
    "name": "ipython",
    "version": 3
   },
   "file_extension": ".py",
   "mimetype": "text/x-python",
   "name": "python",
   "nbconvert_exporter": "python",
   "pygments_lexer": "ipython3",
   "version": "3.6.7"
  }
 },
 "nbformat": 4,
 "nbformat_minor": 2
}
