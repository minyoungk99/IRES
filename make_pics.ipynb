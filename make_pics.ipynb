{
 "cells": [
  {
   "cell_type": "code",
   "execution_count": 7,
   "metadata": {},
   "outputs": [],
   "source": [
    "%matplotlib inline\n",
    "import matplotlib.pyplot as plt\n",
    "import numpy as np"
   ]
  },
  {
   "cell_type": "code",
   "execution_count": 42,
   "metadata": {},
   "outputs": [],
   "source": [
    "d0 = [1, 6, 4, 7, 2, 4, 1, 2, 8, 0, 1, 4, 7, 3,1, 5, 3]\n",
    "d1 = [1, 7, 4, 10, 4, 6, 5, 9, 3]\n",
    "d2 = [2, 5, 4, 6, 5]\n",
    "c2 = [1, 6, 2]"
   ]
  },
  {
   "cell_type": "code",
   "execution_count": 59,
   "metadata": {},
   "outputs": [
    {
     "data": {
      "image/png": "[encoded data removed]",
      "text/plain": [
       "<Figure size 360x216 with 1 Axes>"
      ]
     },
     "metadata": {
      "needs_background": "light"
     },
     "output_type": "display_data"
    }
   ],
   "source": [
    "fig = plt.figure(figsize=(5, 3))\n",
    "fig.patch.set_visible(False)\n",
    "plt.axis('off')\n",
    "plt.step(range(17), d0, 'k')\n",
    "plt.title('Detail Coefficient 1')\n",
    "plt.savefig('/Users/MYK/Desktop/pics/d1.jpeg')"
   ]
  },
  {
   "cell_type": "code",
   "execution_count": 58,
   "metadata": {},
   "outputs": [
    {
     "data": {
      "image/png": "[encoded data removed]",
      "text/plain": [
       "<Figure size 360x216 with 1 Axes>"
      ]
     },
     "metadata": {
      "needs_background": "light"
     },
     "output_type": "display_data"
    }
   ],
   "source": [
    "fig = plt.figure(figsize=(5, 3))\n",
    "fig.patch.set_visible(False)\n",
    "plt.axis('off')\n",
    "plt.step(range(9),d1, 'k')\n",
    "plt.title('Detail Coefficient 2')\n",
    "plt.savefig('/Users/MYK/Desktop/pics/d2.jpeg')"
   ]
  },
  {
   "cell_type": "code",
   "execution_count": 57,
   "metadata": {},
   "outputs": [
    {
     "data": {
      "image/png": "[encoded data removed]",
      "text/plain": [
       "<Figure size 360x216 with 1 Axes>"
      ]
     },
     "metadata": {
      "needs_background": "light"
     },
     "output_type": "display_data"
    }
   ],
   "source": [
    "fig = plt.figure(figsize=(5, 3))\n",
    "fig.patch.set_visible(False)\n",
    "plt.axis('off')\n",
    "plt.step(range(5),d2, 'k')\n",
    "plt.title('Detail Coefficient 3')\n",
    "plt.savefig('/Users/MYK/Desktop/pics/d3.jpeg')"
   ]
  },
  {
   "cell_type": "code",
   "execution_count": 56,
   "metadata": {},
   "outputs": [
    {
     "data": {
      "image/png": "[encoded data removed]",
      "text/plain": [
       "<Figure size 360x216 with 1 Axes>"
      ]
     },
     "metadata": {
      "needs_background": "light"
     },
     "output_type": "display_data"
    }
   ],
   "source": [
    "fig = plt.figure(figsize=(5, 3))\n",
    "fig.patch.set_visible(False)\n",
    "plt.axis('off')\n",
    "plt.step(range(3),c2, 'k')\n",
    "plt.title('Approximation Coefficient 3')\n",
    "plt.savefig('/Users/MYK/Desktop/pics/c3.jpeg')"
   ]
  },
  {
   "cell_type": "code",
   "execution_count": null,
   "metadata": {},
   "outputs": [],
   "source": []
  }
 ],
 "metadata": {
  "kernelspec": {
   "display_name": "Python 3",
   "language": "python",
   "name": "python3"
  },
  "language_info": {
   "codemirror_mode": {
    "name": "ipython",
    "version": 3
   },
   "file_extension": ".py",
   "mimetype": "text/x-python",
   "name": "python",
   "nbconvert_exporter": "python",
   "pygments_lexer": "ipython3",
   "version": "3.6.7"
  }
 },
 "nbformat": 4,
 "nbformat_minor": 2
}
